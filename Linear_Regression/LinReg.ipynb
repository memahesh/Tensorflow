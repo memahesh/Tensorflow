{
 "cells": [
  {
   "cell_type": "code",
   "execution_count": 1,
   "metadata": {},
   "outputs": [
    {
     "name": "stderr",
     "output_type": "stream",
     "text": [
      "C:\\Users\\User\\Anaconda3\\lib\\site-packages\\h5py\\__init__.py:36: FutureWarning: Conversion of the second argument of issubdtype from `float` to `np.floating` is deprecated. In future, it will be treated as `np.float64 == np.dtype(float).type`.\n",
      "  from ._conv import register_converters as _register_converters\n"
     ]
    }
   ],
   "source": [
    "import numpy as np\n",
    "import pandas as pd\n",
    "import matplotlib.pyplot as plt\n",
    "import sklearn.model_selection as sk\n",
    "import tensorflow as tf\n",
    "\n",
    "data = pd.read_csv(\"data/airfoil-noise.dat\", sep=\"\\t\", header=None)\n",
    "data = np.array(data)\n"
   ]
  },
  {
   "cell_type": "code",
   "execution_count": 2,
   "metadata": {},
   "outputs": [],
   "source": [
    "# Splitting into training and test\n",
    "X_train, X_test, y_train, y_test = sk.train_test_split(data[:,:-1],data[:,-1],test_size=0.33, random_state = 42)"
   ]
  },
  {
   "cell_type": "code",
   "execution_count": 3,
   "metadata": {},
   "outputs": [],
   "source": [
    "# Linear Regression\n",
    "# Placeholder, Constants and Variables (if any)\n",
    "X = tf.placeholder(\"float\", shape=X_train.shape, name=\"train-x\")\n",
    "Y = tf.placeholder(\"float\", shape=y_train.shape, name=\"train-y\")\n",
    "# learning_rate = tf.constant(0.01, dtype=tf.float32)\n",
    "learning_rate = 0.1\n",
    "epochs = 500\n",
    "step = 50\n",
    "W = tf.Variable(tf.random_normal([X_train.shape[1],1]), name=\"weights\")\n",
    "b = tf.Variable(np.random.randn(), name=\"bias\")"
   ]
  },
  {
   "cell_type": "code",
   "execution_count": 4,
   "metadata": {},
   "outputs": [],
   "source": [
    "# Our Hypothesis\n",
    "hypothesis = tf.add(tf.matmul(X,W), b)"
   ]
  },
  {
   "cell_type": "code",
   "execution_count": 5,
   "metadata": {},
   "outputs": [],
   "source": [
    "# Computing cost (mean squared error)\n",
    "cost = tf.reduce_sum(tf.pow(hypothesis-Y, 2))/(2*X_train.shape[0])"
   ]
  },
  {
   "cell_type": "code",
   "execution_count": 11,
   "metadata": {},
   "outputs": [],
   "source": [
    "# Optimizer\n",
    "optimizer_grad = tf.train.GradientDescentOptimizer(learning_rate).minimize(cost)\n",
    "optimizer_adam = tf.train.AdamOptimizer(learning_rate=learning_rate).minimize(cost)\n",
    "optimizer_momentum = tf.train.MomentumOptimizer(momentum=0.01,learning_rate=learning_rate).minimize(cost)\n",
    "optimizer_adagrad = tf.train.AdagradOptimizer(learning_rate).minimize(cost)\n",
    "optimizer_ftrl = tf.train.FtrlOptimizer(learning_rate).minimize(cost)"
   ]
  },
  {
   "cell_type": "code",
   "execution_count": 27,
   "metadata": {
    "scrolled": true
   },
   "outputs": [
    {
     "name": "stdout",
     "output_type": "stream",
     "text": [
      "Epoch  0050 Training Cost  4863122400.0 Test cost  1939132835.8241293\n",
      "Epoch  0100 Training Cost  1430817200.0 Test cost  566964590.686303\n",
      "Epoch  0150 Training Cost  458535400.0 Test cost  179407800.10978404\n",
      "Epoch  0200 Training Cost  156599400.0 Test cost  60260446.96610652\n",
      "Epoch  0250 Training Cost  60344696.0 Test cost  22989694.451708093\n",
      "Epoch  0300 Training Cost  29323468.0 Test cost  11376761.149724787\n",
      "Epoch  0350 Training Cost  19205000.0 Test cost  7807663.2157903155\n",
      "Epoch  0400 Training Cost  15807805.0 Test cost  6724693.794088751\n",
      "Epoch  0450 Training Cost  14575650.0 Test cost  6386078.445527659\n"
     ]
    },
    {
     "data": {
      "image/png": "[encoded data removed]",
      "text/plain": [
       "<matplotlib.figure.Figure at 0x218ce1f6898>"
      ]
     },
     "metadata": {},
     "output_type": "display_data"
    }
   ],
   "source": [
    "# \n",
    "# Gradient descent optimizer and Momentum Optimizer(also uses gradients)  \n",
    "#  do not work properly for numerically ill-conditioned datasets\n",
    "# \n",
    "\n",
    "with tf.Session() as sess:\n",
    "    cost_array = []\n",
    "    tcost_array = []\n",
    "    sess.run(tf.global_variables_initializer())\n",
    "#     print(sess.run([cost, W], feed_dict={X:X_train, Y:y_train}))\n",
    "#     print(sess.run(optimizer_grad, feed_dict={X:X_train, Y:y_train}))\n",
    "#     print(sess.run([cost, W], feed_dict={X:X_train, Y:y_train}))\n",
    "#     print(sess.run(optimizer_grad, feed_dict={X:X_train, Y:y_train}))\n",
    "#     print(sess.run([cost, W], feed_dict={X:X_train, Y:y_train}))\n",
    "#     print(sess.run(optimizer_grad, feed_dict={X:X_train, Y:y_train}))\n",
    "    for epoch in range(1, epochs):\n",
    "        loss = sess.run(cost, feed_dict={X:X_train, Y:y_train})\n",
    "        cost_array.append(loss)\n",
    "#         sess.run(optimizer_grad, feed_dict={X:X_train, Y:y_train, cost:loss})\n",
    "#         sess.run(optimizer_adam, feed_dict={X:X_train, Y:y_train, cost:loss})\n",
    "#         sess.run(optimizer_momentum, feed_dict={X:X_train, Y:y_train, cost:loss})\n",
    "        sess.run(optimizer_ftrl, feed_dict={X:X_train, Y:y_train, cost:loss})\n",
    "#         sess.run(optimizer_adagrad, feed_dict={X:X_train, Y:y_train, cost:loss})\n",
    "        \n",
    "        weights, bias = sess.run([W, b])\n",
    "        # Finding test error\n",
    "        t_hyp = X_test.dot(weights) + bias\n",
    "        t_cost = np.sum((t_hyp-y_test)**2)/(2*X_test.shape[0])\n",
    "        tcost_array.append(t_cost)\n",
    "        \n",
    "        if epoch%step == 0:\n",
    "            \n",
    "            print (\"Epoch \", '%04d' % epoch, \"Training Cost \", loss, \"Test cost \", t_cost)\n",
    "    \n",
    "#     Plotting the error curve\n",
    "    plt.plot(tcost_array, label='Test Cost')\n",
    "    plt.plot(cost_array, label='Training Cost')\n",
    "    plt.legend()\n",
    "    plt.show()"
   ]
  },
  {
   "cell_type": "code",
   "execution_count": null,
   "metadata": {},
   "outputs": [],
   "source": []
  },
  {
   "cell_type": "code",
   "execution_count": null,
   "metadata": {},
   "outputs": [],
   "source": []
  }
 ],
 "metadata": {
  "kernelspec": {
   "display_name": "Python 3",
   "language": "python",
   "name": "python3"
  },
  "language_info": {
   "codemirror_mode": {
    "name": "ipython",
    "version": 3
   },
   "file_extension": ".py",
   "mimetype": "text/x-python",
   "name": "python",
   "nbconvert_exporter": "python",
   "pygments_lexer": "ipython3",
   "version": "3.6.4"
  }
 },
 "nbformat": 4,
 "nbformat_minor": 2
}
