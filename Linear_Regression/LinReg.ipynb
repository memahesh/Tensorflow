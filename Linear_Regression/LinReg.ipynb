{
 "cells": [
  {
   "cell_type": "code",
   "execution_count": 1,
   "metadata": {},
   "outputs": [
    {
     "name": "stderr",
     "output_type": "stream",
     "text": [
      "C:\\Users\\User\\Anaconda3\\lib\\site-packages\\h5py\\__init__.py:36: FutureWarning: Conversion of the second argument of issubdtype from `float` to `np.floating` is deprecated. In future, it will be treated as `np.float64 == np.dtype(float).type`.\n",
      "  from ._conv import register_converters as _register_converters\n"
     ]
    }
   ],
   "source": [
    "import numpy as np\n",
    "import pandas as pd\n",
    "import matplotlib.pyplot as plt\n",
    "import sklearn.model_selection as sk\n",
    "import tensorflow as tf\n",
    "\n",
    "data = pd.read_csv(\"data/airfoil-noise.dat\", sep=\"\\t\", header=None)\n",
    "data = np.array(data)\n"
   ]
  },
  {
   "cell_type": "code",
   "execution_count": 2,
   "metadata": {},
   "outputs": [],
   "source": [
    "# Splitting into training and test\n",
    "X_train, X_test, y_train, y_test = sk.train_test_split(data[:,:-1],data[:,-1],test_size=0.33, random_state = 42)"
   ]
  },
  {
   "cell_type": "code",
   "execution_count": 3,
   "metadata": {},
   "outputs": [],
   "source": [
    "# Linear Regression\n",
    "# Placeholder, Constants and Variables (if any)\n",
    "X = tf.placeholder(\"float\", shape=X_train.shape, name=\"train-x\")\n",
    "Y = tf.placeholder(\"float\", shape=y_train.shape, name=\"train-y\")\n",
    "# learning_rate = tf.constant(0.01, dtype=tf.float32)\n",
    "learning_rate = 0.01\n",
    "epochs = 15\n",
    "step = 10\n",
    "W = tf.Variable(tf.random_normal([X_train.shape[1],1]), name=\"weights\")\n",
    "b = tf.Variable(np.random.randn(), name=\"bias\")"
   ]
  },
  {
   "cell_type": "code",
   "execution_count": 4,
   "metadata": {},
   "outputs": [],
   "source": [
    "# Our Hypothesis\n",
    "hypothesis = tf.add(tf.matmul(X,W), b)"
   ]
  },
  {
   "cell_type": "code",
   "execution_count": 5,
   "metadata": {},
   "outputs": [],
   "source": [
    "# Computing cost (mean squared error)\n",
    "cost = tf.reduce_sum(tf.pow(hypothesis-Y, 2))/(2*X_train.shape[0])"
   ]
  },
  {
   "cell_type": "code",
   "execution_count": 6,
   "metadata": {},
   "outputs": [],
   "source": [
    "# Optimizer\n",
    "optimizer_grad = tf.train.GradientDescentOptimizer(learning_rate).minimize(cost)\n",
    "optimizer_adam = tf.train.AdamOptimizer(learning_rate=learning_rate).minimize(cost)"
   ]
  },
  {
   "cell_type": "code",
   "execution_count": 8,
   "metadata": {},
   "outputs": [
    {
     "name": "stdout",
     "output_type": "stream",
     "text": [
      "Epoch  0010 Cost  nan\n"
     ]
    }
   ],
   "source": [
    "with tf.Session() as sess:\n",
    "    sess.run(tf.global_variables_initializer())\n",
    "    \n",
    "    for epoch in range(1, epochs):\n",
    "        sess.run(optimizer_grad, feed_dict={X:X_train, Y:y_train})\n",
    "        if epoch%step == 0:\n",
    "            c = sess.run(cost, feed_dict={X:X_train,Y:y_train})\n",
    "            print (\"Epoch \", '%04d' % epoch, \"Cost \", c)"
   ]
  },
  {
   "cell_type": "code",
   "execution_count": null,
   "metadata": {},
   "outputs": [],
   "source": []
  }
 ],
 "metadata": {
  "kernelspec": {
   "display_name": "Python 3",
   "language": "python",
   "name": "python3"
  },
  "language_info": {
   "codemirror_mode": {
    "name": "ipython",
    "version": 3
   },
   "file_extension": ".py",
   "mimetype": "text/x-python",
   "name": "python",
   "nbconvert_exporter": "python",
   "pygments_lexer": "ipython3",
   "version": "3.6.4"
  }
 },
 "nbformat": 4,
 "nbformat_minor": 2
}
