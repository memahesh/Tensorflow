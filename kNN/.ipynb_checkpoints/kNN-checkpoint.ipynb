{
 "cells": [
  {
   "cell_type": "code",
   "execution_count": 1,
   "metadata": {
    "scrolled": true
   },
   "outputs": [
    {
     "name": "stderr",
     "output_type": "stream",
     "text": [
      "C:\\Users\\User\\Anaconda3\\lib\\site-packages\\h5py\\__init__.py:36: FutureWarning: Conversion of the second argument of issubdtype from `float` to `np.floating` is deprecated. In future, it will be treated as `np.float64 == np.dtype(float).type`.\n",
      "  from ._conv import register_converters as _register_converters\n"
     ]
    },
    {
     "name": "stdout",
     "output_type": "stream",
     "text": [
      "WARNING:tensorflow:From <ipython-input-1-d8f03a541409>:9: read_data_sets (from tensorflow.contrib.learn.python.learn.datasets.mnist) is deprecated and will be removed in a future version.\n",
      "Instructions for updating:\n",
      "Please use alternatives such as official/mnist/dataset.py from tensorflow/models.\n",
      "WARNING:tensorflow:From C:\\Users\\User\\Anaconda3\\lib\\site-packages\\tensorflow\\contrib\\learn\\python\\learn\\datasets\\mnist.py:260: maybe_download (from tensorflow.contrib.learn.python.learn.datasets.base) is deprecated and will be removed in a future version.\n",
      "Instructions for updating:\n",
      "Please write your own downloading logic.\n",
      "WARNING:tensorflow:From C:\\Users\\User\\Anaconda3\\lib\\site-packages\\tensorflow\\contrib\\learn\\python\\learn\\datasets\\mnist.py:262: extract_images (from tensorflow.contrib.learn.python.learn.datasets.mnist) is deprecated and will be removed in a future version.\n",
      "Instructions for updating:\n",
      "Please use tf.data to implement this functionality.\n",
      "Extracting /tmp/data/train-images-idx3-ubyte.gz\n",
      "WARNING:tensorflow:From C:\\Users\\User\\Anaconda3\\lib\\site-packages\\tensorflow\\contrib\\learn\\python\\learn\\datasets\\mnist.py:267: extract_labels (from tensorflow.contrib.learn.python.learn.datasets.mnist) is deprecated and will be removed in a future version.\n",
      "Instructions for updating:\n",
      "Please use tf.data to implement this functionality.\n",
      "Extracting /tmp/data/train-labels-idx1-ubyte.gz\n",
      "Extracting /tmp/data/t10k-images-idx3-ubyte.gz\n",
      "Extracting /tmp/data/t10k-labels-idx1-ubyte.gz\n",
      "WARNING:tensorflow:From C:\\Users\\User\\Anaconda3\\lib\\site-packages\\tensorflow\\contrib\\learn\\python\\learn\\datasets\\mnist.py:290: DataSet.__init__ (from tensorflow.contrib.learn.python.learn.datasets.mnist) is deprecated and will be removed in a future version.\n",
      "Instructions for updating:\n",
      "Please use alternatives such as official/mnist/dataset.py from tensorflow/models.\n"
     ]
    }
   ],
   "source": [
    "# We will be using Instance kNN here\n",
    "# We will be using kNN here for classification on MNIST dataset\n",
    "# There is no point in test and training error since here you are not \n",
    "# actually optimizing anything.\n",
    "# We can also use \"weighted kNN\" and then optimize the weights to\n",
    "# get better results. But that is not discussed here.\n",
    "\n",
    "\n",
    "import numpy as np\n",
    "import matplotlib.pyplot as plt\n",
    "import tensorflow as tf\n",
    "from tensorflow.examples.tutorials.mnist import input_data\n",
    "# Importing MNIST Dataset\n",
    "mnist = input_data.read_data_sets(\"/tmp/data/\", one_hot=False)\n"
   ]
  },
  {
   "cell_type": "code",
   "execution_count": null,
   "metadata": {},
   "outputs": [],
   "source": [
    "# Parameters\n",
    "k = 3 # Nearest Neighbours\n",
    "features = 784 # Number of columns\n",
    "classes = 1 # 10 classes in one column\n",
    "epochs = 1000 # Number of iterations"
   ]
  },
  {
   "cell_type": "code",
   "execution_count": 15,
   "metadata": {},
   "outputs": [],
   "source": [
    "# Input Data\n",
    "X = tf.placeholder(tf.float32, [None, features], name=\"input-x\")\n",
    "Y = tf.placeholder(tf.float32, [None, classes], name=\"input-y\")\n",
    "instances = tf.placeholder(tf.int32, name=\"instances\")\n",
    "\n",
    "Xi = tf.placeholder(tf.float32, [1, features], name=\"temp\")\n",
    "\n",
    "# Euclidean Distance Metric\n",
    "distance = tf.sqrt(tf.reduce_sum(tf.pow(X-Xi,2), axis=1))\n",
    "distance = tf.negative(distance)\n",
    "\n",
    "# Getting the indices of the closest neighbours\n",
    "n_k = tf.nn.top_k(distance, k=k, sorted=False, name=\"n_k\").indices\n",
    "\n",
    "# Getting the distances of the closest neighbours\n",
    "close_d = tf.gather(params=distance, indices=n_k)\n",
    "\n",
    "# Getting the classes of the closest neighbours\n",
    "close_c = tf.transpose(tf.gather(params=Y, indices=n_k))\n",
    "\n",
    "# hypothesis = tf.divide(tf.matmul(close_c, W),tf.reduce_sum(W))\n",
    "hypothesis = tf.reduce_mean(close_c)\n",
    "\n",
    "rounding = tf.round(hypothesis)\n",
    "\n"
   ]
  },
  {
   "cell_type": "code",
   "execution_count": null,
   "metadata": {},
   "outputs": [],
   "source": [
    "# Accuracy \n",
    "with tf.Session() as sess:\n",
    "    sess.run(tf.global_variables_initializer())\n",
    "    arr=[]\n",
    "    accuracy = 0\n",
    "    X_train, Y_train = mnist.train.images, mnist.train.labels\n",
    "#     The data in X_train and the rest is already shuffled. So no worries\n",
    "#     for i in range(0, X_train.shape[0]):\n",
    "    for i in range(0, epochs):\n",
    "        X_i = X_train[i,:].reshape(1,784)\n",
    "        X_tr = np.delete(X_train, (i), axis=0)\n",
    "        Y_tr = np.delete(Y_train, (i), axis=0)\n",
    "        dict_f = {\n",
    "                  instances:X_tr.shape[0], \n",
    "                  X:X_tr,\n",
    "                  Xi:X_i, \n",
    "                  Y:Y_tr.reshape(Y_tr.size,1)\n",
    "        }\n",
    "        \n",
    "        r = sess.run(rounding, feed_dict=dict_f)\n",
    "        \n",
    "        arr.append(r)\n",
    "        if(r==Y_train[i]):\n",
    "            accuracy+=1.0\n",
    "        \n",
    "    accuracy = accuracy/epochs\n",
    "    print(accuracy)\n",
    "    "
   ]
  },
  {
   "cell_type": "code",
   "execution_count": null,
   "metadata": {},
   "outputs": [],
   "source": []
  },
  {
   "cell_type": "code",
   "execution_count": null,
   "metadata": {},
   "outputs": [],
   "source": []
  },
  {
   "cell_type": "code",
   "execution_count": null,
   "metadata": {},
   "outputs": [],
   "source": []
  }
 ],
 "metadata": {
  "kernelspec": {
   "display_name": "Python 3",
   "language": "python",
   "name": "python3"
  },
  "language_info": {
   "codemirror_mode": {
    "name": "ipython",
    "version": 3
   },
   "file_extension": ".py",
   "mimetype": "text/x-python",
   "name": "python",
   "nbconvert_exporter": "python",
   "pygments_lexer": "ipython3",
   "version": "3.6.4"
  }
 },
 "nbformat": 4,
 "nbformat_minor": 2
}
