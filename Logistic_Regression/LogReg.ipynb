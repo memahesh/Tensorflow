{
 "cells": [
  {
   "cell_type": "code",
   "execution_count": 2,
   "metadata": {},
   "outputs": [
    {
     "name": "stderr",
     "output_type": "stream",
     "text": [
      "C:\\Users\\User\\Anaconda3\\lib\\site-packages\\h5py\\__init__.py:36: FutureWarning: Conversion of the second argument of issubdtype from `float` to `np.floating` is deprecated. In future, it will be treated as `np.float64 == np.dtype(float).type`.\n",
      "  from ._conv import register_converters as _register_converters\n"
     ]
    },
    {
     "name": "stdout",
     "output_type": "stream",
     "text": [
      "WARNING:tensorflow:From <ipython-input-2-c18d803d7cb4>:6: read_data_sets (from tensorflow.contrib.learn.python.learn.datasets.mnist) is deprecated and will be removed in a future version.\n",
      "Instructions for updating:\n",
      "Please use alternatives such as official/mnist/dataset.py from tensorflow/models.\n",
      "WARNING:tensorflow:From C:\\Users\\User\\Anaconda3\\lib\\site-packages\\tensorflow\\contrib\\learn\\python\\learn\\datasets\\mnist.py:260: maybe_download (from tensorflow.contrib.learn.python.learn.datasets.base) is deprecated and will be removed in a future version.\n",
      "Instructions for updating:\n",
      "Please write your own downloading logic.\n",
      "WARNING:tensorflow:From C:\\Users\\User\\Anaconda3\\lib\\site-packages\\tensorflow\\contrib\\learn\\python\\learn\\datasets\\mnist.py:262: extract_images (from tensorflow.contrib.learn.python.learn.datasets.mnist) is deprecated and will be removed in a future version.\n",
      "Instructions for updating:\n",
      "Please use tf.data to implement this functionality.\n",
      "Extracting /tmp/data/train-images-idx3-ubyte.gz\n",
      "WARNING:tensorflow:From C:\\Users\\User\\Anaconda3\\lib\\site-packages\\tensorflow\\contrib\\learn\\python\\learn\\datasets\\mnist.py:267: extract_labels (from tensorflow.contrib.learn.python.learn.datasets.mnist) is deprecated and will be removed in a future version.\n",
      "Instructions for updating:\n",
      "Please use tf.data to implement this functionality.\n",
      "Extracting /tmp/data/train-labels-idx1-ubyte.gz\n",
      "WARNING:tensorflow:From C:\\Users\\User\\Anaconda3\\lib\\site-packages\\tensorflow\\contrib\\learn\\python\\learn\\datasets\\mnist.py:110: dense_to_one_hot (from tensorflow.contrib.learn.python.learn.datasets.mnist) is deprecated and will be removed in a future version.\n",
      "Instructions for updating:\n",
      "Please use tf.one_hot on tensors.\n",
      "Extracting /tmp/data/t10k-images-idx3-ubyte.gz\n",
      "Extracting /tmp/data/t10k-labels-idx1-ubyte.gz\n",
      "WARNING:tensorflow:From C:\\Users\\User\\Anaconda3\\lib\\site-packages\\tensorflow\\contrib\\learn\\python\\learn\\datasets\\mnist.py:290: DataSet.__init__ (from tensorflow.contrib.learn.python.learn.datasets.mnist) is deprecated and will be removed in a future version.\n",
      "Instructions for updating:\n",
      "Please use alternatives such as official/mnist/dataset.py from tensorflow/models.\n"
     ]
    }
   ],
   "source": [
    "# We will be using MNIST dataset\n",
    "import numpy as np\n",
    "import tensorflow as tf\n",
    "import matplotlib.pyplot as plt\n",
    "from tensorflow.examples.tutorials.mnist import input_data\n",
    "mnist = input_data.read_data_sets(\"/tmp/data/\", one_hot=True)"
   ]
  },
  {
   "cell_type": "code",
   "execution_count": 30,
   "metadata": {},
   "outputs": [],
   "source": [
    "# Parameters\n",
    "learning_rate = 1\n",
    "batch = 150\n",
    "epochs = 500\n",
    "step = 50"
   ]
  },
  {
   "cell_type": "code",
   "execution_count": 31,
   "metadata": {},
   "outputs": [],
   "source": [
    "# Input Data\n",
    "X = tf.placeholder(tf.float32, [None, 784], name=\"input_x\") # 784 pixels for each image in dataset\n",
    "Y = tf.placeholder(tf.float32, [None, 10], name=\"input_y\") # 0-9 digits written as one-hot\n",
    "\n",
    "# Models\n",
    "W = tf.Variable(tf.random_normal([784,10]), name=\"weights\")\n",
    "b = tf.Variable(np.random.randn(), name=\"bias\")\n",
    "\n",
    "# Getting the hypothesis\n",
    "hypothesis = tf.matmul(X, W) + b\n",
    "\n",
    "# Construct a model\n",
    "# The below link will give you a good understanding of using softmax and\n",
    "# cross-entropy with tensorflow\n",
    "# https://stackoverflow.com/questions/34240703/whats-the-difference-between-softmax-and-softmax-cross-entropy-with-logits\n",
    "pred = tf.nn.softmax(hypothesis)\n",
    "\n",
    "# Minimize error using cross entropy\n",
    "# cost = tf.reduce_mean(-tf.reduce_sum(Y*tf.log(pred), reduction_indices=1))\n",
    "cost = tf.reduce_mean(tf.nn.sigmoid_cross_entropy_with_logits(logits=pred, labels=Y))\n",
    "\n",
    "\n",
    "# Gradient Descent\n",
    "optimizer = tf.train.GradientDescentOptimizer(learning_rate).minimize(cost)\n",
    "\n",
    "#     Accuracy\n",
    "correct = tf.equal(tf.argmax(pred,1), tf.argmax(Y, 1))\n",
    "accuracy = tf.reduce_mean(tf.cast(correct, tf.float32))\n"
   ]
  },
  {
   "cell_type": "code",
   "execution_count": 32,
   "metadata": {},
   "outputs": [
    {
     "name": "stdout",
     "output_type": "stream",
     "text": [
      "Epoch:  50 Training Cost:  0.6767235595346148 Test Cost:  0.6776648\n",
      "Epoch:  100 Training Cost:  0.6728615138700099 Test Cost:  0.6729627\n",
      "Epoch:  150 Training Cost:  0.6715536075211613 Test Cost:  0.67252076\n",
      "Epoch:  200 Training Cost:  0.6710791237693016 Test Cost:  0.66878057\n",
      "Epoch:  250 Training Cost:  0.6705402573926853 Test Cost:  0.6707719\n",
      "Epoch:  300 Training Cost:  0.6701938080005958 Test Cost:  0.6750148\n",
      "Epoch:  350 Training Cost:  0.6698263507397448 Test Cost:  0.67151695\n",
      "Epoch:  400 Training Cost:  0.6697270811581221 Test Cost:  0.6730863\n",
      "Epoch:  450 Training Cost:  0.6694310690210166 Test Cost:  0.6705564\n"
     ]
    },
    {
     "data": {
      "image/png": "[encoded data removed]",
      "text/plain": [
       "<matplotlib.figure.Figure at 0x13243b545f8>"
      ]
     },
     "metadata": {},
     "output_type": "display_data"
    },
    {
     "name": "stdout",
     "output_type": "stream",
     "text": [
      "Training Accuracy:  0.83976364 Test Accuracy:  0.8336\n"
     ]
    }
   ],
   "source": [
    "with tf.Session() as sess:\n",
    "    sess.run(tf.global_variables_initializer())\n",
    "    cost_array = []\n",
    "    tcost_array = []\n",
    "#   Training Cycle\n",
    "    for epoch in range(1, epochs):\n",
    "        avg_cost = 0.0\n",
    "        total_batch = int(mnist.train.num_examples/batch)\n",
    "#       Looping over batches\n",
    "        for i in range(1, total_batch):\n",
    "#           Getting data for batch\n",
    "            batch_xs, batch_ys = mnist.train.next_batch(batch)\n",
    "\n",
    "#           Calculating loss\n",
    "            loss = sess.run(cost, feed_dict={X:batch_xs, Y:batch_ys})\n",
    "            cost_array.append(loss)\n",
    "#           Optimizing the model\n",
    "            sess.run(optimizer, feed_dict={X:batch_xs, Y:batch_ys})\n",
    "\n",
    "            avg_cost += loss\n",
    "        avg_cost = avg_cost/float(total_batch)\n",
    "        \n",
    "#       Getting current weights and bias\n",
    "        weights, bias = sess.run([W, b])\n",
    "#       Test Data\n",
    "        test_xs, test_ys = mnist.test.next_batch(batch)\n",
    "#       Calculating test loss\n",
    "        tcost = sess.run(cost, feed_dict={X:test_xs[:1000,:], Y:test_ys[:1000,:]})\n",
    "        tcost_array.append(tcost)    \n",
    "        \n",
    "       \n",
    "        if(epoch%step==0):\n",
    "            print(\"Epoch: \", epoch, \"Training Cost: \", avg_cost, \"Test Cost: \", tcost)\n",
    "            \n",
    "    #     Plotting the error curve\n",
    "    fig = plt.figure()\n",
    "    ax1 = fig.add_subplot(211)\n",
    "    ax2 = fig.add_subplot(212)\n",
    "    ax1.plot(cost_array)\n",
    "    ax2.plot(tcost_array)\n",
    "    plt.show()\n",
    "\n",
    "#   Accuracy\n",
    "    cr, tr_acc = sess.run([correct, accuracy], feed_dict={X:mnist.train.images, Y:mnist.train.labels})\n",
    "    ce, te_acc = sess.run([correct, accuracy], feed_dict={X:mnist.test.images, Y:mnist.test.labels})\n",
    "    print (\"Training Accuracy: \", tr_acc, \"Test Accuracy: \", te_acc)\n",
    " \n",
    "\n",
    "    "
   ]
  },
  {
   "cell_type": "code",
   "execution_count": null,
   "metadata": {},
   "outputs": [],
   "source": []
  },
  {
   "cell_type": "code",
   "execution_count": null,
   "metadata": {},
   "outputs": [],
   "source": []
  },
  {
   "cell_type": "code",
   "execution_count": null,
   "metadata": {},
   "outputs": [],
   "source": []
  }
 ],
 "metadata": {
  "kernelspec": {
   "display_name": "Python 3",
   "language": "python",
   "name": "python3"
  },
  "language_info": {
   "codemirror_mode": {
    "name": "ipython",
    "version": 3
   },
   "file_extension": ".py",
   "mimetype": "text/x-python",
   "name": "python",
   "nbconvert_exporter": "python",
   "pygments_lexer": "ipython3",
   "version": "3.6.4"
  }
 },
 "nbformat": 4,
 "nbformat_minor": 2
}
