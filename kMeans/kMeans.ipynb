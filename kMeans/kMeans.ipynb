{
 "cells": [
  {
   "cell_type": "code",
   "execution_count": 1,
   "metadata": {},
   "outputs": [
    {
     "name": "stderr",
     "output_type": "stream",
     "text": [
      "C:\\Users\\User\\Anaconda3\\lib\\site-packages\\h5py\\__init__.py:36: FutureWarning: Conversion of the second argument of issubdtype from `float` to `np.floating` is deprecated. In future, it will be treated as `np.float64 == np.dtype(float).type`.\n",
      "  from ._conv import register_converters as _register_converters\n"
     ]
    },
    {
     "name": "stdout",
     "output_type": "stream",
     "text": [
      "WARNING:tensorflow:From <ipython-input-1-ec7d5f34a040>:8: read_data_sets (from tensorflow.contrib.learn.python.learn.datasets.mnist) is deprecated and will be removed in a future version.\n",
      "Instructions for updating:\n",
      "Please use alternatives such as official/mnist/dataset.py from tensorflow/models.\n",
      "WARNING:tensorflow:From C:\\Users\\User\\Anaconda3\\lib\\site-packages\\tensorflow\\contrib\\learn\\python\\learn\\datasets\\mnist.py:260: maybe_download (from tensorflow.contrib.learn.python.learn.datasets.base) is deprecated and will be removed in a future version.\n",
      "Instructions for updating:\n",
      "Please write your own downloading logic.\n",
      "WARNING:tensorflow:From C:\\Users\\User\\Anaconda3\\lib\\site-packages\\tensorflow\\contrib\\learn\\python\\learn\\datasets\\mnist.py:262: extract_images (from tensorflow.contrib.learn.python.learn.datasets.mnist) is deprecated and will be removed in a future version.\n",
      "Instructions for updating:\n",
      "Please use tf.data to implement this functionality.\n",
      "Extracting /tmp/data\\train-images-idx3-ubyte.gz\n",
      "WARNING:tensorflow:From C:\\Users\\User\\Anaconda3\\lib\\site-packages\\tensorflow\\contrib\\learn\\python\\learn\\datasets\\mnist.py:267: extract_labels (from tensorflow.contrib.learn.python.learn.datasets.mnist) is deprecated and will be removed in a future version.\n",
      "Instructions for updating:\n",
      "Please use tf.data to implement this functionality.\n",
      "Extracting /tmp/data\\train-labels-idx1-ubyte.gz\n",
      "WARNING:tensorflow:From C:\\Users\\User\\Anaconda3\\lib\\site-packages\\tensorflow\\contrib\\learn\\python\\learn\\datasets\\mnist.py:110: dense_to_one_hot (from tensorflow.contrib.learn.python.learn.datasets.mnist) is deprecated and will be removed in a future version.\n",
      "Instructions for updating:\n",
      "Please use tf.one_hot on tensors.\n",
      "Extracting /tmp/data\\t10k-images-idx3-ubyte.gz\n",
      "Extracting /tmp/data\\t10k-labels-idx1-ubyte.gz\n",
      "WARNING:tensorflow:From C:\\Users\\User\\Anaconda3\\lib\\site-packages\\tensorflow\\contrib\\learn\\python\\learn\\datasets\\mnist.py:290: DataSet.__init__ (from tensorflow.contrib.learn.python.learn.datasets.mnist) is deprecated and will be removed in a future version.\n",
      "Instructions for updating:\n",
      "Please use alternatives such as official/mnist/dataset.py from tensorflow/models.\n"
     ]
    }
   ],
   "source": [
    "# kMeans is applied on MNIST dataset\n",
    "import numpy as np\n",
    "import matplotlib.pyplot as plt\n",
    "import tensorflow as tf\n",
    "from tensorflow.examples.tutorials.mnist import input_data\n",
    "from tensorflow.contrib.factorization import KMeans\n",
    "\n",
    "mnist = input_data.read_data_sets(\"/tmp/data\", one_hot=True)\n"
   ]
  },
  {
   "cell_type": "code",
   "execution_count": 2,
   "metadata": {},
   "outputs": [],
   "source": [
    "# Constants\n",
    "features = 784\n",
    "n_rows = 55000\n",
    "k = 10 # we will check things by varying 'k'\n",
    "n_classes = 10\n",
    "epochs = 50"
   ]
  },
  {
   "cell_type": "code",
   "execution_count": 3,
   "metadata": {},
   "outputs": [
    {
     "name": "stdout",
     "output_type": "stream",
     "text": [
      "WARNING:tensorflow:From C:\\Users\\User\\Anaconda3\\lib\\site-packages\\tensorflow\\contrib\\factorization\\python\\ops\\clustering_ops.py:744: calling l2_normalize (from tensorflow.python.ops.nn_impl) with dim is deprecated and will be removed in a future version.\n",
      "Instructions for updating:\n",
      "dim is deprecated, use axis instead\n"
     ]
    }
   ],
   "source": [
    "# Input features\n",
    "X = tf.placeholder(tf.float32, shape=[None, features], name=\"input_features\")\n",
    "# Labels\n",
    "Y = tf.placeholder(tf.float32, shape=[None, n_classes], name=\"input_label\")\n",
    "\n",
    "kmeans = KMeans(inputs = X,\n",
    "                num_clusters = k,\n",
    "                distance_metric = 'cosine',\n",
    "                use_mini_batch=True)\n",
    "\n",
    "(all_scores, cluster_idx, scores, cluster_centers_initialized, initialize_centers, training_op) = kmeans.training_graph()\n",
    "\n",
    "avg_dist = tf.reduce_mean(scores)"
   ]
  },
  {
   "cell_type": "code",
   "execution_count": 4,
   "metadata": {},
   "outputs": [
    {
     "name": "stdout",
     "output_type": "stream",
     "text": [
      "Step 1 Average Distance 0.39080328\n",
      "Step 2 Average Distance 0.27384198\n",
      "Step 3 Average Distance 0.2676793\n",
      "Step 4 Average Distance 0.26538327\n",
      "Step 5 Average Distance 0.26421803\n",
      "Step 6 Average Distance 0.26350206\n",
      "Step 7 Average Distance 0.26301438\n",
      "Step 8 Average Distance 0.26265544\n",
      "Step 9 Average Distance 0.26237974\n",
      "Step 10 Average Distance 0.26215565\n",
      "Step 11 Average Distance 0.26196736\n",
      "Step 12 Average Distance 0.2618086\n",
      "Step 13 Average Distance 0.26166967\n",
      "Step 14 Average Distance 0.2615468\n",
      "Step 15 Average Distance 0.2614373\n",
      "Step 16 Average Distance 0.26133868\n",
      "Step 17 Average Distance 0.261249\n",
      "Step 18 Average Distance 0.2611676\n",
      "Step 19 Average Distance 0.26109305\n",
      "Step 20 Average Distance 0.26102498\n",
      "Step 21 Average Distance 0.26096222\n",
      "Step 22 Average Distance 0.26090398\n",
      "Step 23 Average Distance 0.26084957\n",
      "Step 24 Average Distance 0.26079872\n",
      "Step 25 Average Distance 0.2607506\n",
      "Step 26 Average Distance 0.26070517\n",
      "Step 27 Average Distance 0.260662\n",
      "Step 28 Average Distance 0.26062092\n",
      "Step 29 Average Distance 0.260582\n",
      "Step 30 Average Distance 0.2605452\n",
      "Step 31 Average Distance 0.2605106\n",
      "Step 32 Average Distance 0.26047763\n",
      "Step 33 Average Distance 0.26044628\n",
      "Step 34 Average Distance 0.260416\n",
      "Step 35 Average Distance 0.26038697\n",
      "Step 36 Average Distance 0.26035866\n",
      "Step 37 Average Distance 0.26033193\n",
      "Step 38 Average Distance 0.26030594\n",
      "Step 39 Average Distance 0.26028112\n",
      "Step 40 Average Distance 0.26025674\n",
      "Step 41 Average Distance 0.26023337\n",
      "Step 42 Average Distance 0.26021072\n",
      "Step 43 Average Distance 0.26018888\n",
      "Step 44 Average Distance 0.26016748\n",
      "Step 45 Average Distance 0.2601474\n",
      "Step 46 Average Distance 0.2601276\n",
      "Step 47 Average Distance 0.26010844\n",
      "Step 48 Average Distance 0.26008984\n",
      "Step 49 Average Distance 0.26007158\n"
     ]
    }
   ],
   "source": [
    "sess = tf.Session()\n",
    "sess.run(tf.global_variables_initializer())\n",
    "X_data, Y_data = mnist.train.images, mnist.train.labels\n",
    "sess.run(initialize_centers, feed_dict = {X:X_data})\n",
    "for i in range(1, epochs):\n",
    "    _, idx, d= sess.run([training_op, cluster_idx, avg_dist], feed_dict = {X:X_data})\n",
    "    print(\"Step \"+ str(i) + \" Average Distance \" + str(d))\n",
    "        \n",
    "    \n",
    "    "
   ]
  },
  {
   "cell_type": "code",
   "execution_count": 5,
   "metadata": {},
   "outputs": [
    {
     "name": "stdout",
     "output_type": "stream",
     "text": [
      "Train Accuracy:  0.5305273\n",
      "Test Accuracy:  0.5264\n"
     ]
    }
   ],
   "source": [
    "# Calculating accuracy\n",
    "freq_table = np.zeros(shape=(k, n_classes))\n",
    "\n",
    "\n",
    "for i in range(idx[0].shape[0]):\n",
    "    freq_table[idx[0][i]] += mnist.train.labels[i]\n",
    "\n",
    "cluster_label = [np.argmax(c) for c in freq_table]\n",
    "cluster_label = tf.convert_to_tensor(cluster_label)\n",
    "cluster_to_classes = tf.nn.embedding_lookup(cluster_label, cluster_idx)\n",
    "\n",
    "correct = tf.equal(cluster_to_classes, tf.cast(tf.argmax(Y,1), tf.int32))\n",
    "accuracy = tf.reduce_mean(tf.cast(correct, tf.float32))\n",
    "\n",
    "print(\"Train Accuracy: \" , sess.run(accuracy, feed_dict={X:X_data, Y:Y_data}))\n",
    "print(\"Test Accuracy: \" , sess.run(accuracy, feed_dict={X:mnist.test.images, Y:mnist.test.labels}))\n",
    "\n",
    "\n",
    "    "
   ]
  },
  {
   "cell_type": "code",
   "execution_count": null,
   "metadata": {},
   "outputs": [],
   "source": []
  }
 ],
 "metadata": {
  "kernelspec": {
   "display_name": "Python 3",
   "language": "python",
   "name": "python3"
  },
  "language_info": {
   "codemirror_mode": {
    "name": "ipython",
    "version": 3
   },
   "file_extension": ".py",
   "mimetype": "text/x-python",
   "name": "python",
   "nbconvert_exporter": "python",
   "pygments_lexer": "ipython3",
   "version": "3.6.4"
  }
 },
 "nbformat": 4,
 "nbformat_minor": 2
}
